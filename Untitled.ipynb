{
 "cells": [
  {
   "cell_type": "code",
   "execution_count": 1,
   "id": "8d266a5c",
   "metadata": {},
   "outputs": [
    {
     "name": "stdout",
     "output_type": "stream",
     "text": [
      "Collecting bz2file\n",
      "  Downloading bz2file-0.98.tar.gz (11 kB)\n",
      "  Preparing metadata (setup.py): started\n",
      "  Preparing metadata (setup.py): finished with status 'done'\n",
      "Building wheels for collected packages: bz2file\n",
      "  Building wheel for bz2file (setup.py): started\n",
      "  Building wheel for bz2file (setup.py): finished with status 'done'\n",
      "  Created wheel for bz2file: filename=bz2file-0.98-py3-none-any.whl size=6905 sha256=81b271597127557f9d4cd2a132fdc2fb91f9aa1dfcd15e58cfef1784a43ecb20\n",
      "  Stored in directory: c:\\users\\himanshu agrawal\\appdata\\local\\pip\\cache\\wheels\\19\\88\\ce\\c9430af242507ffff602cf86c5ff6a1ae5205cba5aaf21f6cc\n",
      "Successfully built bz2file\n",
      "Installing collected packages: bz2file\n",
      "Successfully installed bz2file-0.98\n",
      "Note: you may need to restart the kernel to use updated packages.\n"
     ]
    },
    {
     "name": "stderr",
     "output_type": "stream",
     "text": [
      "\n",
      "[notice] A new release of pip available: 22.2.2 -> 24.0\n",
      "[notice] To update, run: python.exe -m pip install --upgrade pip\n"
     ]
    }
   ],
   "source": [
    "pip install bz2file"
   ]
  },
  {
   "cell_type": "code",
   "execution_count": 2,
   "id": "f5fd32b1",
   "metadata": {},
   "outputs": [],
   "source": [
    "import bz2file as bz2\n",
    "import pickle"
   ]
  },
  {
   "cell_type": "code",
   "execution_count": 7,
   "id": "2af6023e",
   "metadata": {},
   "outputs": [],
   "source": [
    "def compressed_pickle(title, data):\n",
    "    with bz2.BZ2File(title + '.pbz2', 'w') as f:\n",
    "        pickle.dump(data, f)"
   ]
  },
  {
   "cell_type": "code",
   "execution_count": 8,
   "id": "ed571080",
   "metadata": {},
   "outputs": [],
   "source": [
    "similarity=pickle.load(open('Model/similarity.pkl','rb'))"
   ]
  },
  {
   "cell_type": "code",
   "execution_count": 9,
   "id": "5aef92c6",
   "metadata": {},
   "outputs": [],
   "source": [
    "compressed_pickle('similarity', similarity)"
   ]
  },
  {
   "cell_type": "code",
   "execution_count": null,
   "id": "44eca1c1",
   "metadata": {},
   "outputs": [],
   "source": []
  }
 ],
 "metadata": {
  "kernelspec": {
   "display_name": "Python 3 (ipykernel)",
   "language": "python",
   "name": "python3"
  },
  "language_info": {
   "codemirror_mode": {
    "name": "ipython",
    "version": 3
   },
   "file_extension": ".py",
   "mimetype": "text/x-python",
   "name": "python",
   "nbconvert_exporter": "python",
   "pygments_lexer": "ipython3",
   "version": "3.8.2"
  }
 },
 "nbformat": 4,
 "nbformat_minor": 5
}
